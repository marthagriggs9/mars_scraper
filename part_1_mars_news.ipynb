{
 "cells": [
  {
   "cell_type": "markdown",
   "metadata": {},
   "source": [
    "# Module 12 Challenge\n",
    "## Deliverable 1: Scrape Titles and Preview Text from Mars News"
   ]
  },
  {
   "cell_type": "code",
   "execution_count": 141,
   "metadata": {},
   "outputs": [],
   "source": [
    "# Import Splinter and BeautifulSoup\n",
    "from splinter import Browser\n",
    "from bs4 import BeautifulSoup as soup"
   ]
  },
  {
   "cell_type": "code",
   "execution_count": 142,
   "metadata": {
    "scrolled": true
   },
   "outputs": [],
   "source": [
    "browser = Browser('chrome')"
   ]
  },
  {
   "cell_type": "markdown",
   "metadata": {},
   "source": [
    "### Step 1: Visit the Website\n",
    "\n",
    "1. Use automated browsing to visit the [Mars news site](https://static.bc-edx.com/data/web/mars_news/index.html). Inspect the page to identify which elements to scrape.\n",
    "\n",
    "      > **Hint** To identify which elements to scrape, you might want to inspect the page by using Chrome DevTools."
   ]
  },
  {
   "cell_type": "code",
   "execution_count": 143,
   "metadata": {},
   "outputs": [],
   "source": [
    "# Visit the Mars news site: https://static.bc-edx.com/data/web/mars_news/index.html\n",
    "url = 'https://static.bc-edx.com/data/web/mars_news/index.html'\n",
    "\n",
    "browser.visit(url)"
   ]
  },
  {
   "cell_type": "markdown",
   "metadata": {},
   "source": [
    "### Step 2: Scrape the Website\n",
    "\n",
    "Create a Beautiful Soup object and use it to extract text elements from the website."
   ]
  },
  {
   "cell_type": "code",
   "execution_count": 144,
   "metadata": {},
   "outputs": [],
   "source": [
    "# Create a Beautiful Soup object\n",
    "html = browser.html\n",
    "mars_soup = soup(html, 'html.parser')"
   ]
  },
  {
   "cell_type": "code",
   "execution_count": 145,
   "metadata": {},
   "outputs": [],
   "source": [
    "# Extract all the text elements - \n",
    "# so far this is correct, the only element on the page with this class\n",
    "text_elements = mars_soup.find(class_ = 'image_and_description_container')\n",
    "    "
   ]
  },
  {
   "cell_type": "code",
   "execution_count": 146,
   "metadata": {},
   "outputs": [
    {
     "name": "stdout",
     "output_type": "stream",
     "text": [
      "1 NASA's MAVEN Observes Martian Light Show Caused by Major Solar Storm\n",
      "2 NASA Prepares to Say 'Farewell' to InSight Spacecraft\n",
      "3 NASA and ESA Agree on Next Steps to Return Mars Samples to Earth\n",
      "4 NASA's InSight Lander Detects Stunning Meteoroid Impact on Mars\n",
      "5 NASA To Host Briefing on InSight, Mars Reconnaissance Orbiter Findings\n",
      "6 Why NASA Is Trying To Crash Land on Mars\n",
      "7 Curiosity Mars Rover Reaches Long-Awaited Salty Region\n",
      "8 Mars Mission Shields Up for Tests\n",
      "9 NASA's InSight Waits Out Dust Storm\n",
      "10 NASA's InSight 'Hears' Its First Meteoroid Impacts on Mars\n",
      "11 NASA's Perseverance Rover Investigates Geologically Rich Mars Terrain\n",
      "12 NASA to Host Briefing on Perseverance Mars Rover Mission Operations\n",
      "13 NASA's Perseverance Makes New Discoveries in Mars' Jezero Crater\n",
      "14 10 Years Since Landing, NASA's Curiosity Mars Rover Still Has Drive\n",
      "15 SAM's Top 5 Discoveries Aboard NASA's Curiosity Rover at Mars\n",
      "1 For the first time in its eight years orbiting Mars, NASA’s MAVEN mission witnessed two different types of ultraviolet aurorae simultaneously, the result of solar storms that began on Aug. 27.\n",
      "2 A closer look at what goes into wrapping up the mission as the spacecraft’s power supply continues to dwindle.\n",
      "3 The agency’s Perseverance rover will establish the first sample depot on Mars.\n",
      "4 The agency’s lander felt the ground shake during the impact while cameras aboard the Mars Reconnaissance Orbiter spotted the yawning new crater from space.\n",
      "5 Scientists from two Mars missions will discuss how they combined images and data for a major finding on the Red Planet.\n",
      "6 Like a car’s crumple zone, the experimental SHIELD lander is designed to absorb a hard impact.\n",
      "7 After years of climbing, the Mars rover has arrived at a special region believed to have formed as Mars’ climate was drying.\n",
      "8 Protecting Mars Sample Return spacecraft from micrometeorites requires high-caliber work.\n",
      "9 InSight’s team is taking steps to help the solar-powered lander continue operating for as long as possible.\n",
      "10 The Mars lander’s seismometer has picked up vibrations from four separate impacts in the past two years.\n",
      "11 The latest findings provide greater detail on a region of the Red Planet that has a watery past and is yielding promising samples for the NASA-ESA Mars Sample Return campaign.\n",
      "12 Members of the mission will discuss the rover’s activities as it gathers samples in an ancient river delta.\n",
      "13 The rover found that Jezero Crater’s floor is made up of volcanic rocks that have interacted with water.\n",
      "14 Despite signs of wear, the intrepid spacecraft is about to start an exciting new chapter of its mission as it climbs a Martian mountain.\n",
      "15 “Selfie” of the Curiosity rover with inset showing the SAM instrument prior to installation on the rover.\n"
     ]
    }
   ],
   "source": [
    "#test to see if I chose the correct elements and class by extracting and looping through\n",
    "# the titles\n",
    "title_elem = text_elements.find_all('div', class_ = 'content_title')\n",
    "a=1\n",
    "for titles in title_elem:\n",
    "    print(a, titles.text)\n",
    "    a=a+1\n",
    "\n",
    "#test to see if I chose the correct elements and class by extracting and looping through\n",
    "# the previews\n",
    "preview_elem = text_elements.find_all('div', class_ = 'article_teaser_body')\n",
    "b=1\n",
    "for previews in preview_elem:\n",
    "    print(b, previews.text)\n",
    "    b=b+1\n",
    "\n"
   ]
  },
  {
   "cell_type": "markdown",
   "metadata": {},
   "source": [
    "### Step 3: Store the Results\n",
    "\n",
    "Extract the titles and preview text of the news articles that you scraped. Store the scraping results in Python data structures as follows:\n",
    "\n",
    "* Store each title-and-preview pair in a Python dictionary. And, give each dictionary two keys: `title` and `preview`. An example is the following:\n",
    "\n",
    "  ```python\n",
    "  {'title': \"NASA's MAVEN Observes Martian Light Show Caused by Major Solar Storm\", \n",
    "   'preview': \"For the first time in its eight years orbiting Mars, NASA’s MAVEN mission witnessed two different types of ultraviolet aurorae simultaneously, the result of solar storms that began on Aug. 27.\"\n",
    "  }\n",
    "  ```\n",
    "\n",
    "* Store all the dictionaries in a Python list.\n",
    "\n",
    "* Print the list in your notebook."
   ]
  },
  {
   "cell_type": "code",
   "execution_count": 147,
   "metadata": {},
   "outputs": [],
   "source": [
    "# Parent element that holds all the elements\n",
    "slide_elem = mars_soup.find_all('div', class_ = 'list_text')\n",
    "# Create an empty list to store the dictionaries\n",
    "mars_list = []\n",
    "# Loop through the text elements\n",
    "for elem in slide_elem:\n",
    "    \n",
    "    # Extract the title and preview text from the elements\n",
    "    title = elem.find('div', class_ = 'content_title').text\n",
    "    summary = elem.find('div', class_ = 'article_teaser_body').text\n",
    "    \n",
    "    # Store each title and preview pair in a dictionary\n",
    "    mars_data = {\n",
    "        \"title\": \"\", \n",
    "        \"preview\": \"\"\n",
    "    }\n",
    "    \n",
    "    # Add the dictionary to the list\n",
    "    mars_data[\"title\"] = title\n",
    "    mars_data[\"preview\"] = summary\n",
    "    \n",
    "    \n",
    "    mars_list.append(mars_data)\n",
    "\n",
    "\n"
   ]
  },
  {
   "cell_type": "code",
   "execution_count": 148,
   "metadata": {},
   "outputs": [
    {
     "data": {
      "text/plain": [
       "[{'title': \"NASA's MAVEN Observes Martian Light Show Caused by Major Solar Storm\",\n",
       "  'preview': 'For the first time in its eight years orbiting Mars, NASA’s MAVEN mission witnessed two different types of ultraviolet aurorae simultaneously, the result of solar storms that began on Aug. 27.'},\n",
       " {'title': \"NASA Prepares to Say 'Farewell' to InSight Spacecraft\",\n",
       "  'preview': 'A closer look at what goes into wrapping up the mission as the spacecraft’s power supply continues to dwindle.'},\n",
       " {'title': 'NASA and ESA Agree on Next Steps to Return Mars Samples to Earth',\n",
       "  'preview': 'The agency’s Perseverance rover will establish the first sample depot on Mars.'},\n",
       " {'title': \"NASA's InSight Lander Detects Stunning Meteoroid Impact on Mars\",\n",
       "  'preview': 'The agency’s lander felt the ground shake during the impact while cameras aboard the Mars Reconnaissance Orbiter spotted the yawning new crater from space.'},\n",
       " {'title': 'NASA To Host Briefing on InSight, Mars Reconnaissance Orbiter Findings',\n",
       "  'preview': 'Scientists from two Mars missions will discuss how they combined images and data for a major finding on the Red Planet.'},\n",
       " {'title': 'Why NASA Is Trying To Crash Land on Mars',\n",
       "  'preview': 'Like a car’s crumple zone, the experimental SHIELD lander is designed to absorb a hard impact.'},\n",
       " {'title': 'Curiosity Mars Rover Reaches Long-Awaited Salty Region',\n",
       "  'preview': 'After years of climbing, the Mars rover has arrived at a special region believed to have formed as Mars’ climate was drying.'},\n",
       " {'title': 'Mars Mission Shields Up for Tests',\n",
       "  'preview': 'Protecting Mars Sample Return spacecraft from micrometeorites requires high-caliber work.'},\n",
       " {'title': \"NASA's InSight Waits Out Dust Storm\",\n",
       "  'preview': 'InSight’s team is taking steps to help the solar-powered lander continue operating for as long as possible.'},\n",
       " {'title': \"NASA's InSight 'Hears' Its First Meteoroid Impacts on Mars\",\n",
       "  'preview': 'The Mars lander’s seismometer has picked up vibrations from four separate impacts in the past two years.'},\n",
       " {'title': \"NASA's Perseverance Rover Investigates Geologically Rich Mars Terrain\",\n",
       "  'preview': 'The latest findings provide greater detail on a region of the Red Planet that has a watery past and is yielding promising samples for the NASA-ESA Mars Sample Return campaign.'},\n",
       " {'title': 'NASA to Host Briefing on Perseverance Mars Rover Mission Operations',\n",
       "  'preview': 'Members of the mission will discuss the rover’s activities as it gathers samples in an ancient river delta.'},\n",
       " {'title': \"NASA's Perseverance Makes New Discoveries in Mars' Jezero Crater\",\n",
       "  'preview': 'The rover found that Jezero Crater’s floor is made up of volcanic rocks that have interacted with water.'},\n",
       " {'title': \"10 Years Since Landing, NASA's Curiosity Mars Rover Still Has Drive\",\n",
       "  'preview': 'Despite signs of wear, the intrepid spacecraft is about to start an exciting new chapter of its mission as it climbs a Martian mountain.'},\n",
       " {'title': \"SAM's Top 5 Discoveries Aboard NASA's Curiosity Rover at Mars\",\n",
       "  'preview': '“Selfie” of the Curiosity rover with inset showing the SAM instrument prior to installation on the rover.'}]"
      ]
     },
     "execution_count": 148,
     "metadata": {},
     "output_type": "execute_result"
    }
   ],
   "source": [
    "# Print the list to confirm success\n",
    "mars_list"
   ]
  },
  {
   "cell_type": "code",
   "execution_count": 149,
   "metadata": {},
   "outputs": [
    {
     "name": "stdout",
     "output_type": "stream",
     "text": [
      "[\n",
      "    {\n",
      "        \"title\": \"NASA's MAVEN Observes Martian Light Show Caused by Major Solar Storm\",\n",
      "        \"preview\": \"For the first time in its eight years orbiting Mars, NASA\\u2019s MAVEN mission witnessed two different types of ultraviolet aurorae simultaneously, the result of solar storms that began on Aug. 27.\"\n",
      "    },\n",
      "    {\n",
      "        \"title\": \"NASA Prepares to Say 'Farewell' to InSight Spacecraft\",\n",
      "        \"preview\": \"A closer look at what goes into wrapping up the mission as the spacecraft\\u2019s power supply continues to dwindle.\"\n",
      "    },\n",
      "    {\n",
      "        \"title\": \"NASA and ESA Agree on Next Steps to Return Mars Samples to Earth\",\n",
      "        \"preview\": \"The agency\\u2019s Perseverance rover will establish the first sample depot on Mars.\"\n",
      "    },\n",
      "    {\n",
      "        \"title\": \"NASA's InSight Lander Detects Stunning Meteoroid Impact on Mars\",\n",
      "        \"preview\": \"The agency\\u2019s lander felt the ground shake during the impact while cameras aboard the Mars Reconnaissance Orbiter spotted the yawning new crater from space.\"\n",
      "    },\n",
      "    {\n",
      "        \"title\": \"NASA To Host Briefing on InSight, Mars Reconnaissance Orbiter Findings\",\n",
      "        \"preview\": \"Scientists from two Mars missions will discuss how they combined images and data for a major finding on the Red Planet.\"\n",
      "    },\n",
      "    {\n",
      "        \"title\": \"Why NASA Is Trying To Crash Land on Mars\",\n",
      "        \"preview\": \"Like a car\\u2019s crumple zone, the experimental SHIELD lander is designed to absorb a hard impact.\"\n",
      "    },\n",
      "    {\n",
      "        \"title\": \"Curiosity Mars Rover Reaches Long-Awaited Salty Region\",\n",
      "        \"preview\": \"After years of climbing, the Mars rover has arrived at a special region believed to have formed as Mars\\u2019 climate was drying.\"\n",
      "    },\n",
      "    {\n",
      "        \"title\": \"Mars Mission Shields Up for Tests\",\n",
      "        \"preview\": \"Protecting Mars Sample Return spacecraft from micrometeorites requires high-caliber work.\"\n",
      "    },\n",
      "    {\n",
      "        \"title\": \"NASA's InSight Waits Out Dust Storm\",\n",
      "        \"preview\": \"InSight\\u2019s team is taking steps to help the solar-powered lander continue operating for as long as possible.\"\n",
      "    },\n",
      "    {\n",
      "        \"title\": \"NASA's InSight 'Hears' Its First Meteoroid Impacts on Mars\",\n",
      "        \"preview\": \"The Mars lander\\u2019s seismometer has picked up vibrations from four separate impacts in the past two years.\"\n",
      "    },\n",
      "    {\n",
      "        \"title\": \"NASA's Perseverance Rover Investigates Geologically Rich Mars Terrain\",\n",
      "        \"preview\": \"The latest findings provide greater detail on a region of the Red Planet that has a watery past and is yielding promising samples for the NASA-ESA Mars Sample Return campaign.\"\n",
      "    },\n",
      "    {\n",
      "        \"title\": \"NASA to Host Briefing on Perseverance Mars Rover Mission Operations\",\n",
      "        \"preview\": \"Members of the mission will discuss the rover\\u2019s activities as it gathers samples in an ancient river delta.\"\n",
      "    },\n",
      "    {\n",
      "        \"title\": \"NASA's Perseverance Makes New Discoveries in Mars' Jezero Crater\",\n",
      "        \"preview\": \"The rover found that Jezero Crater\\u2019s floor is made up of volcanic rocks that have interacted with water.\"\n",
      "    },\n",
      "    {\n",
      "        \"title\": \"10 Years Since Landing, NASA's Curiosity Mars Rover Still Has Drive\",\n",
      "        \"preview\": \"Despite signs of wear, the intrepid spacecraft is about to start an exciting new chapter of its mission as it climbs a Martian mountain.\"\n",
      "    },\n",
      "    {\n",
      "        \"title\": \"SAM's Top 5 Discoveries Aboard NASA's Curiosity Rover at Mars\",\n",
      "        \"preview\": \"\\u201cSelfie\\u201d of the Curiosity rover with inset showing the SAM instrument prior to installation on the rover.\"\n",
      "    }\n",
      "]\n"
     ]
    }
   ],
   "source": [
    "import json\n",
    "print(json.dumps(mars_list, indent=4))\n",
    "#Export Python List to a JSON file\n",
    "json_mars = json.dumps(mars_list, indent=4)"
   ]
  },
  {
   "cell_type": "code",
   "execution_count": 150,
   "metadata": {},
   "outputs": [],
   "source": [
    "import pandas as pd\n",
    "#Save json as a csv file\n",
    "mars_df = pd.read_json(json_mars)\n",
    "mars_df.to_csv('mars.csv', index = False)"
   ]
  },
  {
   "cell_type": "code",
   "execution_count": 151,
   "metadata": {},
   "outputs": [],
   "source": [
    "browser.quit()"
   ]
  },
  {
   "cell_type": "code",
   "execution_count": null,
   "metadata": {},
   "outputs": [],
   "source": []
  }
 ],
 "metadata": {
  "kernelspec": {
   "display_name": "Python 3 (ipykernel)",
   "language": "python",
   "name": "python3"
  },
  "language_info": {
   "codemirror_mode": {
    "name": "ipython",
    "version": 3
   },
   "file_extension": ".py",
   "mimetype": "text/x-python",
   "name": "python",
   "nbconvert_exporter": "python",
   "pygments_lexer": "ipython3",
   "version": "3.7.7"
  }
 },
 "nbformat": 4,
 "nbformat_minor": 4
}
